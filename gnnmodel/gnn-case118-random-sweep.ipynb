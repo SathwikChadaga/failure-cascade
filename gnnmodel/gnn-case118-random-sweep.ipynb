{
 "cells": [
  {
   "cell_type": "code",
   "execution_count": null,
   "id": "5b32a284",
   "metadata": {},
   "outputs": [],
   "source": [
    "import numpy as np\n",
    "from importlib import reload\n",
    "import sys\n",
    "sys.path.insert(1, './utils')\n",
    "\n",
    "import torch\n",
    "print(torch.cuda.get_device_name(torch.cuda.current_device()))\n",
    "print('CUDA Version ' + torch.version.cuda)\n",
    "device = torch.device('cuda' if torch.cuda.is_available() else 'cpu')\n",
    "\n",
    "import wandb\n",
    "%env WANDB_SILENT=True\n",
    "%env \"WANDB_NOTEBOOK_NAME\" \"gnn-case118-random-sweep\""
   ]
  },
  {
   "cell_type": "markdown",
   "id": "e4ef50cc",
   "metadata": {},
   "source": [
    "## Load data from file"
   ]
  },
  {
   "cell_type": "code",
   "execution_count": null,
   "id": "80b6536a",
   "metadata": {},
   "outputs": [],
   "source": [
    "import dataparamsgnn\n",
    "reload(dataparamsgnn)"
   ]
  },
  {
   "cell_type": "code",
   "execution_count": null,
   "id": "829e1335",
   "metadata": {},
   "outputs": [],
   "source": [
    "dataParamsRandom = dataparamsgnn.dataParams(device, 'IEEE118', ['random'], 'Train')\n",
    "nodeScale = torch.std(torch.abs(dataParamsRandom.nodeDataTrain[:,:,0] - dataParamsRandom.nodeDataTrain[:,:,1]))"
   ]
  },
  {
   "cell_type": "code",
   "execution_count": null,
   "id": "58f43f4f",
   "metadata": {},
   "outputs": [],
   "source": [
    "scalingList = np.arange(10,21)/10\n",
    "dataParamsTest = dataparamsgnn.dataParams(device, 'IEEE118', scalingList, 'Test', dataParamsRandom.numOutputLabels)"
   ]
  },
  {
   "cell_type": "markdown",
   "id": "6af3f2ea",
   "metadata": {},
   "source": [
    "## Define model training function"
   ]
  },
  {
   "cell_type": "code",
   "execution_count": null,
   "id": "a53a0011",
   "metadata": {},
   "outputs": [],
   "source": [
    "import nnmodel\n",
    "reload(nnmodel)\n",
    "import nntrainer\n",
    "reload(nntrainer)\n",
    "import livemetric\n",
    "reload(livemetric)\n",
    "liveMetricCalculator = livemetric.liveMetricCalculator(device, dataParamsRandom, dataParamsTest)"
   ]
  },
  {
   "cell_type": "code",
   "execution_count": null,
   "id": "9d3fd802",
   "metadata": {},
   "outputs": [],
   "source": [
    "def defineModelAndTrain():\n",
    "    wandb.init(project='gnn-power-cascade-case118-sweep')\n",
    "\n",
    "    np.random.seed(0)\n",
    "    torch.manual_seed(0)\n",
    "\n",
    "    numNodeFeatures = 1\n",
    "    numHiddenFeatures   = wandb.config.numHiddenFeatures\n",
    "    hiddenLayerDepth    = wandb.config.hiddenLayerDepth\n",
    "    numAvgLayers        = wandb.config.numAvgLayers\n",
    "    attentionLayerDepth = wandb.config.attentionLayerDepth\n",
    "    attentionLayerWidth = wandb.config.attentionLayerWidth\n",
    "\n",
    "    M_lines = dataParamsRandom.linkSet.shape[0]\n",
    "\n",
    "    pfModel = nnmodel.GCN(numNodeFeatures, numHiddenFeatures, numAvgLayers, \\\n",
    "                          attentionLayerDepth, attentionLayerWidth, hiddenLayerDepth, dataParamsRandom.numOutputLabels, \\\n",
    "                          dataParamsRandom.node2edgeAdjMatrix, dataParamsRandom.edge2edgeAdjMatrix, nodeScale, 0, False, device).to(device)\n",
    "\n",
    "    learningRate = wandb.config.learningRate\n",
    "    batchSize    = wandb.config.batchSize\n",
    "    weightDecay  = wandb.config.weightDecay\n",
    "    gammaVal     = wandb.config.gammaVal*1e-5+0.9999\n",
    "    maxEpochs    = wandb.config.maxEpochs\n",
    "\n",
    "    criterion = torch.nn.CrossEntropyLoss(reduction='none')\n",
    "\n",
    "    optimizer = torch.optim.Adam(filter(lambda p: p.requires_grad, pfModel.parameters()), lr=learningRate, betas=(0.9, 0.999), weight_decay = weightDecay)\n",
    "    scheduler = torch.optim.lr_scheduler.ExponentialLR(optimizer, gamma=gammaVal)\n",
    "\n",
    "    nnTrainer = nntrainer.nnTrainer(device, criterion, scheduler)\n",
    "\n",
    "    pfModel.train()\n",
    "\n",
    "    try:\n",
    "        for epoch in range(maxEpochs):         \n",
    "            nodeFeatures, edgeFeatures, activeEdges = dataParamsRandom.getTrainBatch(batchSize)\n",
    "            currLoss = nnTrainer.batchStep(nodeFeatures, edgeFeatures, activeEdges, pfModel, optimizer)\n",
    "            \n",
    "            liveMetricCalculator.batchRoutine(currLoss, epoch, pfModel, scalingList, 128)\n",
    "            if(np.isnan(currLoss) or currLoss > 1e4): break\n",
    "    except KeyboardInterrupt:\n",
    "        print('Interrupted.') \n",
    "    liveMetricCalculator.postRunRoutine(pfModel, 128)"
   ]
  },
  {
   "cell_type": "markdown",
   "id": "8189029a",
   "metadata": {},
   "source": [
    "## Define sweep configurations and run the sweep"
   ]
  },
  {
   "cell_type": "code",
   "execution_count": null,
   "id": "4ed21664",
   "metadata": {
    "scrolled": false
   },
   "outputs": [],
   "source": [
    "sweep_configuration = {\n",
    "    'method': 'bayes',\n",
    "    'metric': \n",
    "    {\n",
    "        'goal': 'maximize', \n",
    "        'name': 'min-accuracy'\n",
    "        },\n",
    "    'parameters': \n",
    "    {\n",
    "        'numHiddenFeatures'   : {'values': [150]},\n",
    "        'hiddenLayerDepth'    : {'values': [2]},\n",
    "        'numAvgLayers'        : {'values': [15]},\n",
    "        'attentionLayerDepth' : {'values': [30]},\n",
    "        'attentionLayerWidth' : {'values': [2048]},\n",
    "        'learningRate' : {'min': 2.75e-4, 'max': 3e-4},\n",
    "        'batchSize'    : {'values': [128]},\n",
    "        'weightDecay'  : {'values': [0]},\n",
    "        'gammaVal'     : {'min': 1.0, 'max': 9.0},\n",
    "        'maxEpochs'    : {'values': [5000]},\n",
    "     }\n",
    "}"
   ]
  },
  {
   "cell_type": "code",
   "execution_count": null,
   "id": "3717d7c4",
   "metadata": {},
   "outputs": [],
   "source": [
    "sweep_id = wandb.sweep(\n",
    "    sweep=sweep_configuration, \n",
    "    project='gnn-power-cascade-case118-sweep'\n",
    "    )\n",
    "wandb.agent(sweep_id, function=defineModelAndTrain, count=20)\n",
    "wandb.finish()"
   ]
  }
 ],
 "metadata": {
  "kernelspec": {
   "display_name": "Python (env_chadaga)",
   "language": "python",
   "name": "env_chadaga"
  },
  "language_info": {
   "codemirror_mode": {
    "name": "ipython",
    "version": 3
   },
   "file_extension": ".py",
   "mimetype": "text/x-python",
   "name": "python",
   "nbconvert_exporter": "python",
   "pygments_lexer": "ipython3",
   "version": "3.10.6"
  }
 },
 "nbformat": 4,
 "nbformat_minor": 5
}
