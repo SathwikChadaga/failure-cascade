{
 "cells": [
  {
   "cell_type": "code",
   "execution_count": null,
   "metadata": {},
   "outputs": [],
   "source": [
    "import numpy as np\n",
    "import matplotlib.pyplot as plt\n",
    "from importlib import reload\n",
    "import sys\n",
    "sys.path.insert(1, './utils')\n",
    "\n",
    "import torch\n",
    "print(torch.cuda.get_device_name(torch.cuda.current_device()))\n",
    "print('CUDA Version ' + torch.version.cuda)\n",
    "device = torch.device('cuda' if torch.cuda.is_available() else 'cpu')\n",
    "\n",
    "import wandb\n",
    "%env WANDB_SILENT=True\n",
    "%env \"WANDB_NOTEBOOK_NAME\" \"topml-sweep\""
   ]
  },
  {
   "cell_type": "markdown",
   "metadata": {},
   "source": [
    "## Load data from file"
   ]
  },
  {
   "cell_type": "code",
   "execution_count": null,
   "metadata": {},
   "outputs": [],
   "source": [
    "import dataparamsml\n",
    "reload(dataparamsml)\n",
    "\n",
    "dataDirectoryHome = '../gnnmodel'\n",
    "scalingList = np.arange(10,21)/10\n",
    "ieeecase = 'IEEE89'\n",
    "\n",
    "dataParamsML = dataparamsml.dataParamsML(ieeecase, dataDirectoryHome, scalingList)"
   ]
  },
  {
   "cell_type": "markdown",
   "metadata": {},
   "source": [
    "## Define funtions to train and test models"
   ]
  },
  {
   "cell_type": "code",
   "execution_count": null,
   "metadata": {},
   "outputs": [],
   "source": [
    "import mlmodelwrapper\n",
    "reload(mlmodelwrapper)\n",
    "import testmlmodels\n",
    "reload(testmlmodels)"
   ]
  },
  {
   "cell_type": "code",
   "execution_count": null,
   "metadata": {},
   "outputs": [],
   "source": [
    "def defineModelTrainAndTest():    \n",
    "    wandb.init(project=modelType.lower() + '-' + ieeecase.lower() + '-sweep')\n",
    "\n",
    "    modelConfig = {}\n",
    "    if(modelType.lower() == 'svm' or modelType.lower() == 'logr'):\n",
    "        modelConfig['C'] = wandb.config.C\n",
    "        modelConfig['max_iter'] = wandb.config.max_iter\n",
    "    else:\n",
    "        modelConfig['alpha'] = wandb.config.alpha\n",
    "    \n",
    "    allMlModels = mlmodelwrapper.mlmodelWrapper(dataParamsML, modelType.lower(), ieeecase, modelConfig)\n",
    "    allMlModels.learnAndSaveAllMlModels()\n",
    "    \n",
    "    testMlModels = testmlmodels.testMlModels(allMlModels, dataParamsML)\n",
    "    allBranchFailFreqs, allTrueFinalStates, allPredFinalStates = testMlModels.getAllFinalStates()\n",
    "    \n",
    "    allErrors = (allTrueFinalStates != allPredFinalStates)\n",
    "    maxErrorPerLoading = np.max(np.mean(allErrors, axis=1)*100, axis=1)\n",
    "    \n",
    "    wandb.log({'average-error': np.mean(maxErrorPerLoading)})\n",
    "    for ii, scalingValue in enumerate(scalingList):\n",
    "        wandb.log({\"average-error-{:0.2f}\".format(scalingValue): maxErrorPerLoading[ii]})"
   ]
  },
  {
   "cell_type": "markdown",
   "metadata": {},
   "source": [
    "## Run sweep"
   ]
  },
  {
   "cell_type": "code",
   "execution_count": null,
   "metadata": {},
   "outputs": [],
   "source": [
    "# modelTypeList = ['SVM', 'MNB', 'CatNB', 'ComNB', 'BNB', 'LogR', 'RR']\n",
    "modelTypeList = ['SVM', 'MNB']\n",
    "for modelType in modelTypeList:\n",
    "    print('Sweeping hyperparameters for ' + modelType + ' with ' + ieeecase + ' data...')\n",
    "    if(modelType.lower() == 'svm' or modelType.lower() == 'logr'):\n",
    "        sweep_configuration = {\n",
    "            'method': 'bayes',\n",
    "            'metric': \n",
    "            {\n",
    "                'goal': 'minimize', \n",
    "                'name': 'average-error'\n",
    "                },\n",
    "            'parameters': \n",
    "            {\n",
    "                'max_iter'   : {'values': [5000]},\n",
    "                'C' : {'min': 1.00, 'max': 20.0},\n",
    "             }\n",
    "        }\n",
    "    else:\n",
    "        sweep_configuration = {\n",
    "            'method': 'bayes',\n",
    "            'metric': \n",
    "            {\n",
    "                'goal': 'minimize', \n",
    "                'name': 'average-error'\n",
    "                },\n",
    "            'parameters': \n",
    "            {\n",
    "                'alpha' : {'min': 0.01, 'max': 2.01},\n",
    "             }\n",
    "        }\n",
    "\n",
    "    sweep_id = wandb.sweep(\n",
    "        sweep=sweep_configuration, \n",
    "        project= modelType.lower() + '-' + ieeecase.lower() + '-sweep'\n",
    "        )\n",
    "\n",
    "    wandb.agent(sweep_id, function=defineModelTrainAndTest, count=2)\n",
    "    wandb.finish()"
   ]
  },
  {
   "cell_type": "code",
   "execution_count": null,
   "metadata": {},
   "outputs": [],
   "source": []
  }
 ],
 "metadata": {
  "kernelspec": {
   "display_name": "Python (env_chadaga)",
   "language": "python",
   "name": "env_chadaga"
  },
  "language_info": {
   "codemirror_mode": {
    "name": "ipython",
    "version": 3
   },
   "file_extension": ".py",
   "mimetype": "text/x-python",
   "name": "python",
   "nbconvert_exporter": "python",
   "pygments_lexer": "ipython3",
   "version": "3.10.6"
  }
 },
 "nbformat": 4,
 "nbformat_minor": 4
}
