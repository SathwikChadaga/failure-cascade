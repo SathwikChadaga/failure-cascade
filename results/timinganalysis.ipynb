{
 "cells": [
  {
   "cell_type": "code",
   "execution_count": 1,
   "id": "5b32a284",
   "metadata": {},
   "outputs": [
    {
     "name": "stdout",
     "output_type": "stream",
     "text": [
      "NVIDIA GeForce RTX 2080 Ti\n",
      "CUDA Version 11.3\n"
     ]
    }
   ],
   "source": [
    "import numpy as np\n",
    "from importlib import reload\n",
    "import sys\n",
    "sys.path.insert(1, './utils')\n",
    "sys.path.insert(1, '../gnnmodel/utils')\n",
    "sys.path.insert(1, '../influencemodel/utils')\n",
    "sys.path.insert(1, '../mlmodels/utils')\n",
    "\n",
    "import torch\n",
    "print(torch.cuda.get_device_name(torch.cuda.current_device()))\n",
    "print('CUDA Version ' + torch.version.cuda)\n",
    "device = torch.device('cuda' if torch.cuda.is_available() else 'cpu')"
   ]
  },
  {
   "cell_type": "code",
   "execution_count": 2,
   "id": "36394940",
   "metadata": {
    "collapsed": true
   },
   "outputs": [],
   "source": [
    "dataDirectoryBase = '../gnnmodel'\n",
    "imDirectoryBase   = '../influencemodel'\n",
    "mlModelDirectory   = '../mlmodels'\n",
    "scalingList   = np.arange(10,21)/10"
   ]
  },
  {
   "cell_type": "markdown",
   "id": "0d5981bc",
   "metadata": {},
   "source": [
    "## Load classes to generate results"
   ]
  },
  {
   "cell_type": "markdown",
   "id": "c3f65b51",
   "metadata": {},
   "source": [
    "### Load result calculator class for influence model"
   ]
  },
  {
   "cell_type": "code",
   "execution_count": 3,
   "id": "170b090a",
   "metadata": {},
   "outputs": [],
   "source": [
    "import imresults\n",
    "reload(imresults)\n",
    "\n",
    "imResults89 = imresults.imResults(device, 'IEEE89', scalingList, dataDirectoryBase, imDirectoryBase)\n",
    "imResults118 = imresults.imResults(device, 'IEEE118', scalingList, dataDirectoryBase, imDirectoryBase)"
   ]
  },
  {
   "cell_type": "markdown",
   "id": "515b599f",
   "metadata": {},
   "source": [
    "### Load result calculator class for GNN model"
   ]
  },
  {
   "cell_type": "code",
   "execution_count": 4,
   "id": "eefc7066",
   "metadata": {},
   "outputs": [],
   "source": [
    "import gnnresults\n",
    "reload(gnnresults)\n",
    "\n",
    "gnnResults89 = gnnresults.gnnResults(device, 'IEEE89', scalingList, dataDirectoryBase)\n",
    "gnnResults118 = gnnresults.gnnResults(device, 'IEEE118', scalingList, dataDirectoryBase)"
   ]
  },
  {
   "cell_type": "markdown",
   "id": "3e8b6255",
   "metadata": {},
   "source": [
    "### Load result calculator class for ML models"
   ]
  },
  {
   "cell_type": "code",
   "execution_count": 5,
   "id": "a2c8e2ec",
   "metadata": {},
   "outputs": [],
   "source": [
    "import mlresults\n",
    "reload(mlresults)\n",
    "\n",
    "mlResults89 = mlresults.mlResults(device, ['SVM', 'BNB', 'LogR'], 'IEEE89', scalingList, dataDirectoryBase, mlModelDirectory)\n",
    "mlResults118 = mlresults.mlResults(device, ['SVM', 'BNB', 'LogR'], 'IEEE118', scalingList, dataDirectoryBase, mlModelDirectory)"
   ]
  },
  {
   "cell_type": "markdown",
   "id": "17d13bc5",
   "metadata": {},
   "source": [
    "## Calculate results"
   ]
  },
  {
   "cell_type": "code",
   "execution_count": 6,
   "id": "dd9ee27a",
   "metadata": {},
   "outputs": [
    {
     "name": "stdout",
     "output_type": "stream",
     "text": [
      "Ran timing analysis on scaling value = 1.0, input size = torch.Size([1000, 206]).\n",
      "Ran timing analysis on scaling value = 1.1, input size = torch.Size([1000, 206]).\n",
      "Ran timing analysis on scaling value = 1.2, input size = torch.Size([1000, 206]).\n",
      "Ran timing analysis on scaling value = 1.3, input size = torch.Size([1000, 206]).\n",
      "Ran timing analysis on scaling value = 1.4, input size = torch.Size([1000, 206]).\n",
      "Ran timing analysis on scaling value = 1.5, input size = torch.Size([1000, 206]).\n",
      "Ran timing analysis on scaling value = 1.6, input size = torch.Size([1000, 206]).\n",
      "Ran timing analysis on scaling value = 1.7, input size = torch.Size([1000, 206]).\n",
      "Ran timing analysis on scaling value = 1.8, input size = torch.Size([1000, 206]).\n",
      "Ran timing analysis on scaling value = 1.9, input size = torch.Size([1000, 206]).\n",
      "Ran timing analysis on scaling value = 2.0, input size = torch.Size([1000, 206]).\n",
      "Ran timing analysis on scaling value = 1.0, input size = torch.Size([1000, 179]).\n",
      "Ran timing analysis on scaling value = 1.1, input size = torch.Size([1000, 179]).\n",
      "Ran timing analysis on scaling value = 1.2, input size = torch.Size([1000, 179]).\n",
      "Ran timing analysis on scaling value = 1.3, input size = torch.Size([1000, 179]).\n",
      "Ran timing analysis on scaling value = 1.4, input size = torch.Size([1000, 179]).\n",
      "Ran timing analysis on scaling value = 1.5, input size = torch.Size([1000, 179]).\n",
      "Ran timing analysis on scaling value = 1.6, input size = torch.Size([1000, 179]).\n",
      "Ran timing analysis on scaling value = 1.7, input size = torch.Size([1000, 179]).\n",
      "Ran timing analysis on scaling value = 1.8, input size = torch.Size([1000, 179]).\n",
      "Ran timing analysis on scaling value = 1.9, input size = torch.Size([1000, 179]).\n",
      "Ran timing analysis on scaling value = 2.0, input size = torch.Size([1000, 179]).\n"
     ]
    }
   ],
   "source": [
    "timeTaken89IM, totSamples89IM = imResults89.getTimingMetrics()\n",
    "timeTaken118IM, totSamples118IM = imResults118.getTimingMetrics()"
   ]
  },
  {
   "cell_type": "code",
   "execution_count": 7,
   "id": "771f81cd",
   "metadata": {},
   "outputs": [
    {
     "name": "stdout",
     "output_type": "stream",
     "text": [
      "Ran timing analysis on scaling value = 1.0, input size = torch.Size([1000, 206]).\n",
      "Ran timing analysis on scaling value = 1.1, input size = torch.Size([1000, 206]).\n",
      "Ran timing analysis on scaling value = 1.2, input size = torch.Size([1000, 206]).\n",
      "Ran timing analysis on scaling value = 1.3, input size = torch.Size([1000, 206]).\n",
      "Ran timing analysis on scaling value = 1.4, input size = torch.Size([1000, 206]).\n",
      "Ran timing analysis on scaling value = 1.5, input size = torch.Size([1000, 206]).\n",
      "Ran timing analysis on scaling value = 1.6, input size = torch.Size([1000, 206]).\n",
      "Ran timing analysis on scaling value = 1.7, input size = torch.Size([1000, 206]).\n",
      "Ran timing analysis on scaling value = 1.8, input size = torch.Size([1000, 206]).\n",
      "Ran timing analysis on scaling value = 1.9, input size = torch.Size([1000, 206]).\n",
      "Ran timing analysis on scaling value = 2.0, input size = torch.Size([1000, 206]).\n",
      "Ran timing analysis on scaling value = 1.0, input size = torch.Size([1000, 179]).\n",
      "Ran timing analysis on scaling value = 1.1, input size = torch.Size([1000, 179]).\n",
      "Ran timing analysis on scaling value = 1.2, input size = torch.Size([1000, 179]).\n",
      "Ran timing analysis on scaling value = 1.3, input size = torch.Size([1000, 179]).\n",
      "Ran timing analysis on scaling value = 1.4, input size = torch.Size([1000, 179]).\n",
      "Ran timing analysis on scaling value = 1.5, input size = torch.Size([1000, 179]).\n",
      "Ran timing analysis on scaling value = 1.6, input size = torch.Size([1000, 179]).\n",
      "Ran timing analysis on scaling value = 1.7, input size = torch.Size([1000, 179]).\n",
      "Ran timing analysis on scaling value = 1.8, input size = torch.Size([1000, 179]).\n",
      "Ran timing analysis on scaling value = 1.9, input size = torch.Size([1000, 179]).\n",
      "Ran timing analysis on scaling value = 2.0, input size = torch.Size([1000, 179]).\n"
     ]
    }
   ],
   "source": [
    "timeTaken89GNN, totSamples89GNN = gnnResults89.getTimingMetrics()\n",
    "timeTaken118GNN, totSamples118GNN = gnnResults118.getTimingMetrics()"
   ]
  },
  {
   "cell_type": "code",
   "execution_count": 8,
   "id": "ce71e9f0",
   "metadata": {},
   "outputs": [
    {
     "name": "stdout",
     "output_type": "stream",
     "text": [
      "Ran timing analysis on scaling value = 1.0, input size = (1000, 206).\n",
      "Ran timing analysis on scaling value = 1.1, input size = (1000, 206).\n",
      "Ran timing analysis on scaling value = 1.2, input size = (1000, 206).\n",
      "Ran timing analysis on scaling value = 1.3, input size = (1000, 206).\n",
      "Ran timing analysis on scaling value = 1.4, input size = (1000, 206).\n",
      "Ran timing analysis on scaling value = 1.5, input size = (1000, 206).\n",
      "Ran timing analysis on scaling value = 1.6, input size = (1000, 206).\n",
      "Ran timing analysis on scaling value = 1.7, input size = (1000, 206).\n",
      "Ran timing analysis on scaling value = 1.8, input size = (1000, 206).\n",
      "Ran timing analysis on scaling value = 1.9, input size = (1000, 206).\n",
      "Ran timing analysis on scaling value = 2.0, input size = (1000, 206).\n",
      "Ran timing analysis on scaling value = 1.0, input size = (1000, 179).\n",
      "Ran timing analysis on scaling value = 1.1, input size = (1000, 179).\n",
      "Ran timing analysis on scaling value = 1.2, input size = (1000, 179).\n",
      "Ran timing analysis on scaling value = 1.3, input size = (1000, 179).\n",
      "Ran timing analysis on scaling value = 1.4, input size = (1000, 179).\n",
      "Ran timing analysis on scaling value = 1.5, input size = (1000, 179).\n",
      "Ran timing analysis on scaling value = 1.6, input size = (1000, 179).\n",
      "Ran timing analysis on scaling value = 1.7, input size = (1000, 179).\n",
      "Ran timing analysis on scaling value = 1.8, input size = (1000, 179).\n",
      "Ran timing analysis on scaling value = 1.9, input size = (1000, 179).\n",
      "Ran timing analysis on scaling value = 2.0, input size = (1000, 179).\n"
     ]
    }
   ],
   "source": [
    "timeTaken89logr, totSamples89logr = mlResults89.getTimingMetrics('LogR')\n",
    "timeTaken118logr, totSamples118logr = mlResults118.getTimingMetrics('LogR')"
   ]
  },
  {
   "cell_type": "code",
   "execution_count": 9,
   "id": "830cd5b5",
   "metadata": {},
   "outputs": [
    {
     "name": "stdout",
     "output_type": "stream",
     "text": [
      "Ran timing analysis on scaling value = 1.0, input size = (1000, 206).\n",
      "Ran timing analysis on scaling value = 1.1, input size = (1000, 206).\n",
      "Ran timing analysis on scaling value = 1.2, input size = (1000, 206).\n",
      "Ran timing analysis on scaling value = 1.3, input size = (1000, 206).\n",
      "Ran timing analysis on scaling value = 1.4, input size = (1000, 206).\n",
      "Ran timing analysis on scaling value = 1.5, input size = (1000, 206).\n",
      "Ran timing analysis on scaling value = 1.6, input size = (1000, 206).\n",
      "Ran timing analysis on scaling value = 1.7, input size = (1000, 206).\n",
      "Ran timing analysis on scaling value = 1.8, input size = (1000, 206).\n",
      "Ran timing analysis on scaling value = 1.9, input size = (1000, 206).\n",
      "Ran timing analysis on scaling value = 2.0, input size = (1000, 206).\n",
      "Ran timing analysis on scaling value = 1.0, input size = (1000, 179).\n",
      "Ran timing analysis on scaling value = 1.1, input size = (1000, 179).\n",
      "Ran timing analysis on scaling value = 1.2, input size = (1000, 179).\n",
      "Ran timing analysis on scaling value = 1.3, input size = (1000, 179).\n",
      "Ran timing analysis on scaling value = 1.4, input size = (1000, 179).\n",
      "Ran timing analysis on scaling value = 1.5, input size = (1000, 179).\n",
      "Ran timing analysis on scaling value = 1.6, input size = (1000, 179).\n",
      "Ran timing analysis on scaling value = 1.7, input size = (1000, 179).\n",
      "Ran timing analysis on scaling value = 1.8, input size = (1000, 179).\n",
      "Ran timing analysis on scaling value = 1.9, input size = (1000, 179).\n",
      "Ran timing analysis on scaling value = 2.0, input size = (1000, 179).\n"
     ]
    }
   ],
   "source": [
    "timeTaken89bnb, totSamples89bnb = mlResults89.getTimingMetrics('BNB')\n",
    "timeTaken118bnb, totSamples118bnb = mlResults118.getTimingMetrics('BNB')"
   ]
  },
  {
   "cell_type": "code",
   "execution_count": 10,
   "id": "b1f1ec0f",
   "metadata": {},
   "outputs": [
    {
     "name": "stdout",
     "output_type": "stream",
     "text": [
      "Ran timing analysis on scaling value = 1.0, input size = (1000, 206).\n",
      "Ran timing analysis on scaling value = 1.1, input size = (1000, 206).\n",
      "Ran timing analysis on scaling value = 1.2, input size = (1000, 206).\n",
      "Ran timing analysis on scaling value = 1.3, input size = (1000, 206).\n",
      "Ran timing analysis on scaling value = 1.4, input size = (1000, 206).\n",
      "Ran timing analysis on scaling value = 1.5, input size = (1000, 206).\n",
      "Ran timing analysis on scaling value = 1.6, input size = (1000, 206).\n",
      "Ran timing analysis on scaling value = 1.7, input size = (1000, 206).\n",
      "Ran timing analysis on scaling value = 1.8, input size = (1000, 206).\n",
      "Ran timing analysis on scaling value = 1.9, input size = (1000, 206).\n",
      "Ran timing analysis on scaling value = 2.0, input size = (1000, 206).\n",
      "Ran timing analysis on scaling value = 1.0, input size = (1000, 179).\n",
      "Ran timing analysis on scaling value = 1.1, input size = (1000, 179).\n",
      "Ran timing analysis on scaling value = 1.2, input size = (1000, 179).\n",
      "Ran timing analysis on scaling value = 1.3, input size = (1000, 179).\n",
      "Ran timing analysis on scaling value = 1.4, input size = (1000, 179).\n",
      "Ran timing analysis on scaling value = 1.5, input size = (1000, 179).\n",
      "Ran timing analysis on scaling value = 1.6, input size = (1000, 179).\n",
      "Ran timing analysis on scaling value = 1.7, input size = (1000, 179).\n",
      "Ran timing analysis on scaling value = 1.8, input size = (1000, 179).\n",
      "Ran timing analysis on scaling value = 1.9, input size = (1000, 179).\n",
      "Ran timing analysis on scaling value = 2.0, input size = (1000, 179).\n"
     ]
    }
   ],
   "source": [
    "timeTaken89SVM, totSamples89SVM = mlResults89.getTimingMetrics('SVM')\n",
    "timeTaken118SVM, totSamples118SVM = mlResults118.getTimingMetrics('SVM')"
   ]
  },
  {
   "cell_type": "code",
   "execution_count": 11,
   "id": "4034c9f8",
   "metadata": {},
   "outputs": [
    {
     "name": "stdout",
     "output_type": "stream",
     "text": [
      "Prediction time in seconds per 1000 samples.\n",
      "          IM    GNN   SVM   BNB   LogR  \n",
      "IEEE89    2.34  0.53  0.15  0.27  0.18\n",
      "IEEE118   2.03  0.28  0.12  0.22  0.13\n"
     ]
    }
   ],
   "source": [
    "print('Prediction time in seconds per 1000 samples.')\n",
    "print('          IM    GNN   SVM   BNB   LogR  ')\n",
    "print('IEEE89    %.2f  %.2f  %.2f  %.2f  %.2f'%(1000*timeTaken89IM/totSamples89IM,   1000*timeTaken89GNN/totSamples89GNN, 1000*timeTaken89SVM/totSamples89SVM, 1000*timeTaken89bnb/totSamples89bnb, 1000*timeTaken89logr/totSamples89logr))\n",
    "print('IEEE118   %.2f  %.2f  %.2f  %.2f  %.2f'%(1000*timeTaken118IM/totSamples118IM, 1000*timeTaken118GNN/totSamples118GNN, 1000*timeTaken118SVM/totSamples118SVM, 1000*timeTaken118bnb/totSamples118bnb, 1000*timeTaken118logr/totSamples118logr))"
   ]
  },
  {
   "cell_type": "code",
   "execution_count": null,
   "id": "2970dae1",
   "metadata": {},
   "outputs": [],
   "source": []
  }
 ],
 "metadata": {
  "kernelspec": {
   "display_name": "Python (env_chadaga)",
   "language": "python",
   "name": "env_chadaga"
  },
  "language_info": {
   "codemirror_mode": {
    "name": "ipython",
    "version": 3
   },
   "file_extension": ".py",
   "mimetype": "text/x-python",
   "name": "python",
   "nbconvert_exporter": "python",
   "pygments_lexer": "ipython3",
   "version": "3.10.6"
  }
 },
 "nbformat": 4,
 "nbformat_minor": 5
}
